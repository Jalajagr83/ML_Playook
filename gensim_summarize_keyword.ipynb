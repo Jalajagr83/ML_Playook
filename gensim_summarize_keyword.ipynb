{
  "nbformat": 4,
  "nbformat_minor": 0,
  "metadata": {
    "colab": {
      "name": "gensim_summarize_keyword.ipynb",
      "provenance": [],
      "collapsed_sections": [],
      "authorship_tag": "ABX9TyPvcrbGVsyinKc49lNygFDl",
      "include_colab_link": true
    },
    "kernelspec": {
      "name": "python3",
      "display_name": "Python 3"
    },
    "language_info": {
      "name": "python"
    }
  },
  "cells": [
    {
      "cell_type": "markdown",
      "metadata": {
        "id": "view-in-github",
        "colab_type": "text"
      },
      "source": [
        "<a href=\"https://colab.research.google.com/github/Jalajagr83/ML_Playook/blob/main/gensim_summarize_keyword.ipynb\" target=\"_parent\"><img src=\"https://colab.research.google.com/assets/colab-badge.svg\" alt=\"Open In Colab\"/></a>"
      ]
    },
    {
      "cell_type": "code",
      "metadata": {
        "id": "LFzDzUNtdEW9"
      },
      "source": [
        "\n",
        "from gensim.summarization import summarize\n",
        "from gensim.summarization import keywords"
      ],
      "execution_count": 1,
      "outputs": []
    },
    {
      "cell_type": "code",
      "metadata": {
        "id": "895nBOtDdLn0"
      },
      "source": [
        "text =\"\"\"\n",
        "An attorney representing the family of George Floyd told CNN on Sunday being in the courtroom for the trial of the former police officer accused of killing Floyd has been \"heart-wrenching.\"\n",
        "\n",
        "The highly anticipated trial of Derek Chauvin began Monday with video showing Floyd's final moments. Chauvin, 45, has pleaded not guilty to second-degree unintentional murder, third-degree murder and second-degree manslaughter charges.\n",
        "Only one member from the Floyd and Chauvin families will be allowed to attend the trial in Minneapolis because of Covid-19 pandemic restrictions, a judge ruled in the case.\n",
        "Ben Crump, who represents Floyd's family, told CNN's Jim Acosta that as a Black man -- who also has been a civil rights attorney the entirety of his professional life -- he believes Chauvin will be convicted.\n",
        "\"My heart has been broken before, dealing with the American legal system,\" Crump said.\n",
        "Crump said he was shocked when defense attorneys started blaming the crowd outside of Cup Foods and that \"the only thing that killed George Floyd was an overdose of excessive force.\" Defense attorney Eric Nelson argued the bystanders at the scene of Floyd's death had morphed into a threatening crowd. This, in turn, distracted officers, Nelson said.\n",
        "One thing Crump did find compelling, he said, was the testimony from Jena Scurry, a Minneapolis 911 dispatcher who directed officers to the Cup Foods store, the scene of Floyd's death. Scurry called a police sergeant to voice her concerns about the arrest the day Floyd died, saying \"I don't know if they had to use force or not.\"\n",
        "\"My instincts were telling me that something's wrong. Something was not right. I don't know what, but something wasn't right,\" Scurry said she thought as she watched the video. \"It was an extended period of time.\"\n",
        "Crump described Scurry's comments as a \"bombshell testimony.\" Crump also also addressed the testimony of Lt. Richard Zimmerman, the Minneapolis Police Department's top homicide detective, who said Chauvin kneeling on Floyd's neck after handcuffing him was \"totally unnecessary.\"\n",
        "\"It says something when you have the highest-ranking police officials in Minneapolis Police Department also saying this is a bridge too far,\" Crump said. \"You knew you weren't supposed to keep a human being facedown like that where they could not breathe. And yet, you did it and you did it even after he had become unconscious.\"\n",
        "\"\"\""
      ],
      "execution_count": 2,
      "outputs": []
    },
    {
      "cell_type": "code",
      "metadata": {
        "colab": {
          "base_uri": "https://localhost:8080/"
        },
        "id": "YsykVIGRdcxs",
        "outputId": "1765301e-a8ec-4776-dcf8-afc8b1c9fd9f"
      },
      "source": [
        "print(\"==================================SUMMARY===================================\")\n",
        "print (summarize(text,ratio=0.25))\n",
        "\n",
        "print(\"==================================KEYWORDS===================================\")\n",
        "print (keywords(text,ratio=0.05))"
      ],
      "execution_count": 4,
      "outputs": [
        {
          "output_type": "stream",
          "text": [
            "==================================SUMMARY===================================\n",
            "An attorney representing the family of George Floyd told CNN on Sunday being in the courtroom for the trial of the former police officer accused of killing Floyd has been \"heart-wrenching.\"\n",
            "Ben Crump, who represents Floyd's family, told CNN's Jim Acosta that as a Black man -- who also has been a civil rights attorney the entirety of his professional life -- he believes Chauvin will be convicted.\n",
            "Crump said he was shocked when defense attorneys started blaming the crowd outside of Cup Foods and that \"the only thing that killed George Floyd was an overdose of excessive force.\" Defense attorney Eric Nelson argued the bystanders at the scene of Floyd's death had morphed into a threatening crowd.\n",
            "One thing Crump did find compelling, he said, was the testimony from Jena Scurry, a Minneapolis 911 dispatcher who directed officers to the Cup Foods store, the scene of Floyd's death.\n",
            "==================================KEYWORDS===================================\n",
            "chauvin\n",
            "crump\n",
            "floyd\n",
            "police\n"
          ],
          "name": "stdout"
        }
      ]
    }
  ]
}