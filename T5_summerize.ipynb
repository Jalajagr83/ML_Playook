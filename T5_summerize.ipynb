{
  "nbformat": 4,
  "nbformat_minor": 0,
  "metadata": {
    "colab": {
      "name": "T5_summerize.ipynb",
      "provenance": [],
      "collapsed_sections": [],
      "authorship_tag": "ABX9TyOnB/5PAlQTAk0J9LIiRt7I",
      "include_colab_link": true
    },
    "kernelspec": {
      "name": "python3",
      "display_name": "Python 3"
    },
    "language_info": {
      "name": "python"
    },
    "widgets": {
      "application/vnd.jupyter.widget-state+json": {
        "a39f0fd513df434693e1068599badf92": {
          "model_module": "@jupyter-widgets/controls",
          "model_name": "HBoxModel",
          "state": {
            "_view_name": "HBoxView",
            "_dom_classes": [],
            "_model_name": "HBoxModel",
            "_view_module": "@jupyter-widgets/controls",
            "_model_module_version": "1.5.0",
            "_view_count": null,
            "_view_module_version": "1.5.0",
            "box_style": "",
            "layout": "IPY_MODEL_af7ff29c8437443e8c4ea2681326715d",
            "_model_module": "@jupyter-widgets/controls",
            "children": [
              "IPY_MODEL_88a4f09724bd4c83bd750a22942bbb89",
              "IPY_MODEL_dda476ff4e8242f5a700dc09c5111797"
            ]
          }
        },
        "af7ff29c8437443e8c4ea2681326715d": {
          "model_module": "@jupyter-widgets/base",
          "model_name": "LayoutModel",
          "state": {
            "_view_name": "LayoutView",
            "grid_template_rows": null,
            "right": null,
            "justify_content": null,
            "_view_module": "@jupyter-widgets/base",
            "overflow": null,
            "_model_module_version": "1.2.0",
            "_view_count": null,
            "flex_flow": null,
            "width": null,
            "min_width": null,
            "border": null,
            "align_items": null,
            "bottom": null,
            "_model_module": "@jupyter-widgets/base",
            "top": null,
            "grid_column": null,
            "overflow_y": null,
            "overflow_x": null,
            "grid_auto_flow": null,
            "grid_area": null,
            "grid_template_columns": null,
            "flex": null,
            "_model_name": "LayoutModel",
            "justify_items": null,
            "grid_row": null,
            "max_height": null,
            "align_content": null,
            "visibility": null,
            "align_self": null,
            "height": null,
            "min_height": null,
            "padding": null,
            "grid_auto_rows": null,
            "grid_gap": null,
            "max_width": null,
            "order": null,
            "_view_module_version": "1.2.0",
            "grid_template_areas": null,
            "object_position": null,
            "object_fit": null,
            "grid_auto_columns": null,
            "margin": null,
            "display": null,
            "left": null
          }
        },
        "88a4f09724bd4c83bd750a22942bbb89": {
          "model_module": "@jupyter-widgets/controls",
          "model_name": "FloatProgressModel",
          "state": {
            "_view_name": "ProgressView",
            "style": "IPY_MODEL_76724073d71c4aa9ad54845bf6eddd6e",
            "_dom_classes": [],
            "description": "Downloading: 100%",
            "_model_name": "FloatProgressModel",
            "bar_style": "success",
            "max": 1197,
            "_view_module": "@jupyter-widgets/controls",
            "_model_module_version": "1.5.0",
            "value": 1197,
            "_view_count": null,
            "_view_module_version": "1.5.0",
            "orientation": "horizontal",
            "min": 0,
            "description_tooltip": null,
            "_model_module": "@jupyter-widgets/controls",
            "layout": "IPY_MODEL_519d90f18bc044369dfbb94fc81c3d76"
          }
        },
        "dda476ff4e8242f5a700dc09c5111797": {
          "model_module": "@jupyter-widgets/controls",
          "model_name": "HTMLModel",
          "state": {
            "_view_name": "HTMLView",
            "style": "IPY_MODEL_8f196044e0ec4f93a210f7a6dc93b7b8",
            "_dom_classes": [],
            "description": "",
            "_model_name": "HTMLModel",
            "placeholder": "​",
            "_view_module": "@jupyter-widgets/controls",
            "_model_module_version": "1.5.0",
            "value": " 1.20k/1.20k [00:10&lt;00:00, 116B/s]",
            "_view_count": null,
            "_view_module_version": "1.5.0",
            "description_tooltip": null,
            "_model_module": "@jupyter-widgets/controls",
            "layout": "IPY_MODEL_9d0021e0ecd6490e90fca8ce8fd73460"
          }
        },
        "76724073d71c4aa9ad54845bf6eddd6e": {
          "model_module": "@jupyter-widgets/controls",
          "model_name": "ProgressStyleModel",
          "state": {
            "_view_name": "StyleView",
            "_model_name": "ProgressStyleModel",
            "description_width": "initial",
            "_view_module": "@jupyter-widgets/base",
            "_model_module_version": "1.5.0",
            "_view_count": null,
            "_view_module_version": "1.2.0",
            "bar_color": null,
            "_model_module": "@jupyter-widgets/controls"
          }
        },
        "519d90f18bc044369dfbb94fc81c3d76": {
          "model_module": "@jupyter-widgets/base",
          "model_name": "LayoutModel",
          "state": {
            "_view_name": "LayoutView",
            "grid_template_rows": null,
            "right": null,
            "justify_content": null,
            "_view_module": "@jupyter-widgets/base",
            "overflow": null,
            "_model_module_version": "1.2.0",
            "_view_count": null,
            "flex_flow": null,
            "width": null,
            "min_width": null,
            "border": null,
            "align_items": null,
            "bottom": null,
            "_model_module": "@jupyter-widgets/base",
            "top": null,
            "grid_column": null,
            "overflow_y": null,
            "overflow_x": null,
            "grid_auto_flow": null,
            "grid_area": null,
            "grid_template_columns": null,
            "flex": null,
            "_model_name": "LayoutModel",
            "justify_items": null,
            "grid_row": null,
            "max_height": null,
            "align_content": null,
            "visibility": null,
            "align_self": null,
            "height": null,
            "min_height": null,
            "padding": null,
            "grid_auto_rows": null,
            "grid_gap": null,
            "max_width": null,
            "order": null,
            "_view_module_version": "1.2.0",
            "grid_template_areas": null,
            "object_position": null,
            "object_fit": null,
            "grid_auto_columns": null,
            "margin": null,
            "display": null,
            "left": null
          }
        },
        "8f196044e0ec4f93a210f7a6dc93b7b8": {
          "model_module": "@jupyter-widgets/controls",
          "model_name": "DescriptionStyleModel",
          "state": {
            "_view_name": "StyleView",
            "_model_name": "DescriptionStyleModel",
            "description_width": "",
            "_view_module": "@jupyter-widgets/base",
            "_model_module_version": "1.5.0",
            "_view_count": null,
            "_view_module_version": "1.2.0",
            "_model_module": "@jupyter-widgets/controls"
          }
        },
        "9d0021e0ecd6490e90fca8ce8fd73460": {
          "model_module": "@jupyter-widgets/base",
          "model_name": "LayoutModel",
          "state": {
            "_view_name": "LayoutView",
            "grid_template_rows": null,
            "right": null,
            "justify_content": null,
            "_view_module": "@jupyter-widgets/base",
            "overflow": null,
            "_model_module_version": "1.2.0",
            "_view_count": null,
            "flex_flow": null,
            "width": null,
            "min_width": null,
            "border": null,
            "align_items": null,
            "bottom": null,
            "_model_module": "@jupyter-widgets/base",
            "top": null,
            "grid_column": null,
            "overflow_y": null,
            "overflow_x": null,
            "grid_auto_flow": null,
            "grid_area": null,
            "grid_template_columns": null,
            "flex": null,
            "_model_name": "LayoutModel",
            "justify_items": null,
            "grid_row": null,
            "max_height": null,
            "align_content": null,
            "visibility": null,
            "align_self": null,
            "height": null,
            "min_height": null,
            "padding": null,
            "grid_auto_rows": null,
            "grid_gap": null,
            "max_width": null,
            "order": null,
            "_view_module_version": "1.2.0",
            "grid_template_areas": null,
            "object_position": null,
            "object_fit": null,
            "grid_auto_columns": null,
            "margin": null,
            "display": null,
            "left": null
          }
        },
        "dbc7a2882cd34fb8af1160d4dbc36ed6": {
          "model_module": "@jupyter-widgets/controls",
          "model_name": "HBoxModel",
          "state": {
            "_view_name": "HBoxView",
            "_dom_classes": [],
            "_model_name": "HBoxModel",
            "_view_module": "@jupyter-widgets/controls",
            "_model_module_version": "1.5.0",
            "_view_count": null,
            "_view_module_version": "1.5.0",
            "box_style": "",
            "layout": "IPY_MODEL_92aaeb2f520349ac80706a0b5f9c6556",
            "_model_module": "@jupyter-widgets/controls",
            "children": [
              "IPY_MODEL_1917e7b1368543fb8f6081479ac68f9b",
              "IPY_MODEL_2344baf8ea9743db91508154d657ed69"
            ]
          }
        },
        "92aaeb2f520349ac80706a0b5f9c6556": {
          "model_module": "@jupyter-widgets/base",
          "model_name": "LayoutModel",
          "state": {
            "_view_name": "LayoutView",
            "grid_template_rows": null,
            "right": null,
            "justify_content": null,
            "_view_module": "@jupyter-widgets/base",
            "overflow": null,
            "_model_module_version": "1.2.0",
            "_view_count": null,
            "flex_flow": null,
            "width": null,
            "min_width": null,
            "border": null,
            "align_items": null,
            "bottom": null,
            "_model_module": "@jupyter-widgets/base",
            "top": null,
            "grid_column": null,
            "overflow_y": null,
            "overflow_x": null,
            "grid_auto_flow": null,
            "grid_area": null,
            "grid_template_columns": null,
            "flex": null,
            "_model_name": "LayoutModel",
            "justify_items": null,
            "grid_row": null,
            "max_height": null,
            "align_content": null,
            "visibility": null,
            "align_self": null,
            "height": null,
            "min_height": null,
            "padding": null,
            "grid_auto_rows": null,
            "grid_gap": null,
            "max_width": null,
            "order": null,
            "_view_module_version": "1.2.0",
            "grid_template_areas": null,
            "object_position": null,
            "object_fit": null,
            "grid_auto_columns": null,
            "margin": null,
            "display": null,
            "left": null
          }
        },
        "1917e7b1368543fb8f6081479ac68f9b": {
          "model_module": "@jupyter-widgets/controls",
          "model_name": "FloatProgressModel",
          "state": {
            "_view_name": "ProgressView",
            "style": "IPY_MODEL_b60ed714681c496ea2ffc6c4267dd51f",
            "_dom_classes": [],
            "description": "Downloading: 100%",
            "_model_name": "FloatProgressModel",
            "bar_style": "success",
            "max": 242065649,
            "_view_module": "@jupyter-widgets/controls",
            "_model_module_version": "1.5.0",
            "value": 242065649,
            "_view_count": null,
            "_view_module_version": "1.5.0",
            "orientation": "horizontal",
            "min": 0,
            "description_tooltip": null,
            "_model_module": "@jupyter-widgets/controls",
            "layout": "IPY_MODEL_963cff9812114e4787d6ce9087603671"
          }
        },
        "2344baf8ea9743db91508154d657ed69": {
          "model_module": "@jupyter-widgets/controls",
          "model_name": "HTMLModel",
          "state": {
            "_view_name": "HTMLView",
            "style": "IPY_MODEL_b75bdab2e71946e28ec884539825d97f",
            "_dom_classes": [],
            "description": "",
            "_model_name": "HTMLModel",
            "placeholder": "​",
            "_view_module": "@jupyter-widgets/controls",
            "_model_module_version": "1.5.0",
            "value": " 242M/242M [00:09&lt;00:00, 25.1MB/s]",
            "_view_count": null,
            "_view_module_version": "1.5.0",
            "description_tooltip": null,
            "_model_module": "@jupyter-widgets/controls",
            "layout": "IPY_MODEL_7233f5d9d78c451b9a97450582da4afa"
          }
        },
        "b60ed714681c496ea2ffc6c4267dd51f": {
          "model_module": "@jupyter-widgets/controls",
          "model_name": "ProgressStyleModel",
          "state": {
            "_view_name": "StyleView",
            "_model_name": "ProgressStyleModel",
            "description_width": "initial",
            "_view_module": "@jupyter-widgets/base",
            "_model_module_version": "1.5.0",
            "_view_count": null,
            "_view_module_version": "1.2.0",
            "bar_color": null,
            "_model_module": "@jupyter-widgets/controls"
          }
        },
        "963cff9812114e4787d6ce9087603671": {
          "model_module": "@jupyter-widgets/base",
          "model_name": "LayoutModel",
          "state": {
            "_view_name": "LayoutView",
            "grid_template_rows": null,
            "right": null,
            "justify_content": null,
            "_view_module": "@jupyter-widgets/base",
            "overflow": null,
            "_model_module_version": "1.2.0",
            "_view_count": null,
            "flex_flow": null,
            "width": null,
            "min_width": null,
            "border": null,
            "align_items": null,
            "bottom": null,
            "_model_module": "@jupyter-widgets/base",
            "top": null,
            "grid_column": null,
            "overflow_y": null,
            "overflow_x": null,
            "grid_auto_flow": null,
            "grid_area": null,
            "grid_template_columns": null,
            "flex": null,
            "_model_name": "LayoutModel",
            "justify_items": null,
            "grid_row": null,
            "max_height": null,
            "align_content": null,
            "visibility": null,
            "align_self": null,
            "height": null,
            "min_height": null,
            "padding": null,
            "grid_auto_rows": null,
            "grid_gap": null,
            "max_width": null,
            "order": null,
            "_view_module_version": "1.2.0",
            "grid_template_areas": null,
            "object_position": null,
            "object_fit": null,
            "grid_auto_columns": null,
            "margin": null,
            "display": null,
            "left": null
          }
        },
        "b75bdab2e71946e28ec884539825d97f": {
          "model_module": "@jupyter-widgets/controls",
          "model_name": "DescriptionStyleModel",
          "state": {
            "_view_name": "StyleView",
            "_model_name": "DescriptionStyleModel",
            "description_width": "",
            "_view_module": "@jupyter-widgets/base",
            "_model_module_version": "1.5.0",
            "_view_count": null,
            "_view_module_version": "1.2.0",
            "_model_module": "@jupyter-widgets/controls"
          }
        },
        "7233f5d9d78c451b9a97450582da4afa": {
          "model_module": "@jupyter-widgets/base",
          "model_name": "LayoutModel",
          "state": {
            "_view_name": "LayoutView",
            "grid_template_rows": null,
            "right": null,
            "justify_content": null,
            "_view_module": "@jupyter-widgets/base",
            "overflow": null,
            "_model_module_version": "1.2.0",
            "_view_count": null,
            "flex_flow": null,
            "width": null,
            "min_width": null,
            "border": null,
            "align_items": null,
            "bottom": null,
            "_model_module": "@jupyter-widgets/base",
            "top": null,
            "grid_column": null,
            "overflow_y": null,
            "overflow_x": null,
            "grid_auto_flow": null,
            "grid_area": null,
            "grid_template_columns": null,
            "flex": null,
            "_model_name": "LayoutModel",
            "justify_items": null,
            "grid_row": null,
            "max_height": null,
            "align_content": null,
            "visibility": null,
            "align_self": null,
            "height": null,
            "min_height": null,
            "padding": null,
            "grid_auto_rows": null,
            "grid_gap": null,
            "max_width": null,
            "order": null,
            "_view_module_version": "1.2.0",
            "grid_template_areas": null,
            "object_position": null,
            "object_fit": null,
            "grid_auto_columns": null,
            "margin": null,
            "display": null,
            "left": null
          }
        },
        "e894316dc9a040e1bf736073d19e5341": {
          "model_module": "@jupyter-widgets/controls",
          "model_name": "HBoxModel",
          "state": {
            "_view_name": "HBoxView",
            "_dom_classes": [],
            "_model_name": "HBoxModel",
            "_view_module": "@jupyter-widgets/controls",
            "_model_module_version": "1.5.0",
            "_view_count": null,
            "_view_module_version": "1.5.0",
            "box_style": "",
            "layout": "IPY_MODEL_a0b8ae9c2f7a476bbc22c02e7c63e5b9",
            "_model_module": "@jupyter-widgets/controls",
            "children": [
              "IPY_MODEL_50b034f98788410491c5df4adb3aa768",
              "IPY_MODEL_5e725c8c9e4f444f8b59c88efc6b28f8"
            ]
          }
        },
        "a0b8ae9c2f7a476bbc22c02e7c63e5b9": {
          "model_module": "@jupyter-widgets/base",
          "model_name": "LayoutModel",
          "state": {
            "_view_name": "LayoutView",
            "grid_template_rows": null,
            "right": null,
            "justify_content": null,
            "_view_module": "@jupyter-widgets/base",
            "overflow": null,
            "_model_module_version": "1.2.0",
            "_view_count": null,
            "flex_flow": null,
            "width": null,
            "min_width": null,
            "border": null,
            "align_items": null,
            "bottom": null,
            "_model_module": "@jupyter-widgets/base",
            "top": null,
            "grid_column": null,
            "overflow_y": null,
            "overflow_x": null,
            "grid_auto_flow": null,
            "grid_area": null,
            "grid_template_columns": null,
            "flex": null,
            "_model_name": "LayoutModel",
            "justify_items": null,
            "grid_row": null,
            "max_height": null,
            "align_content": null,
            "visibility": null,
            "align_self": null,
            "height": null,
            "min_height": null,
            "padding": null,
            "grid_auto_rows": null,
            "grid_gap": null,
            "max_width": null,
            "order": null,
            "_view_module_version": "1.2.0",
            "grid_template_areas": null,
            "object_position": null,
            "object_fit": null,
            "grid_auto_columns": null,
            "margin": null,
            "display": null,
            "left": null
          }
        },
        "50b034f98788410491c5df4adb3aa768": {
          "model_module": "@jupyter-widgets/controls",
          "model_name": "FloatProgressModel",
          "state": {
            "_view_name": "ProgressView",
            "style": "IPY_MODEL_deb72373a7f14e65bf2720f36c833615",
            "_dom_classes": [],
            "description": "Downloading: 100%",
            "_model_name": "FloatProgressModel",
            "bar_style": "success",
            "max": 791656,
            "_view_module": "@jupyter-widgets/controls",
            "_model_module_version": "1.5.0",
            "value": 791656,
            "_view_count": null,
            "_view_module_version": "1.5.0",
            "orientation": "horizontal",
            "min": 0,
            "description_tooltip": null,
            "_model_module": "@jupyter-widgets/controls",
            "layout": "IPY_MODEL_8a0eeddfef9c420ab248b585d6d07630"
          }
        },
        "5e725c8c9e4f444f8b59c88efc6b28f8": {
          "model_module": "@jupyter-widgets/controls",
          "model_name": "HTMLModel",
          "state": {
            "_view_name": "HTMLView",
            "style": "IPY_MODEL_65ec395418b345b4b4353974ac3c0eb0",
            "_dom_classes": [],
            "description": "",
            "_model_name": "HTMLModel",
            "placeholder": "​",
            "_view_module": "@jupyter-widgets/controls",
            "_model_module_version": "1.5.0",
            "value": " 792k/792k [00:00&lt;00:00, 1.81MB/s]",
            "_view_count": null,
            "_view_module_version": "1.5.0",
            "description_tooltip": null,
            "_model_module": "@jupyter-widgets/controls",
            "layout": "IPY_MODEL_9c620a7a2fff4428b52c7a4140669666"
          }
        },
        "deb72373a7f14e65bf2720f36c833615": {
          "model_module": "@jupyter-widgets/controls",
          "model_name": "ProgressStyleModel",
          "state": {
            "_view_name": "StyleView",
            "_model_name": "ProgressStyleModel",
            "description_width": "initial",
            "_view_module": "@jupyter-widgets/base",
            "_model_module_version": "1.5.0",
            "_view_count": null,
            "_view_module_version": "1.2.0",
            "bar_color": null,
            "_model_module": "@jupyter-widgets/controls"
          }
        },
        "8a0eeddfef9c420ab248b585d6d07630": {
          "model_module": "@jupyter-widgets/base",
          "model_name": "LayoutModel",
          "state": {
            "_view_name": "LayoutView",
            "grid_template_rows": null,
            "right": null,
            "justify_content": null,
            "_view_module": "@jupyter-widgets/base",
            "overflow": null,
            "_model_module_version": "1.2.0",
            "_view_count": null,
            "flex_flow": null,
            "width": null,
            "min_width": null,
            "border": null,
            "align_items": null,
            "bottom": null,
            "_model_module": "@jupyter-widgets/base",
            "top": null,
            "grid_column": null,
            "overflow_y": null,
            "overflow_x": null,
            "grid_auto_flow": null,
            "grid_area": null,
            "grid_template_columns": null,
            "flex": null,
            "_model_name": "LayoutModel",
            "justify_items": null,
            "grid_row": null,
            "max_height": null,
            "align_content": null,
            "visibility": null,
            "align_self": null,
            "height": null,
            "min_height": null,
            "padding": null,
            "grid_auto_rows": null,
            "grid_gap": null,
            "max_width": null,
            "order": null,
            "_view_module_version": "1.2.0",
            "grid_template_areas": null,
            "object_position": null,
            "object_fit": null,
            "grid_auto_columns": null,
            "margin": null,
            "display": null,
            "left": null
          }
        },
        "65ec395418b345b4b4353974ac3c0eb0": {
          "model_module": "@jupyter-widgets/controls",
          "model_name": "DescriptionStyleModel",
          "state": {
            "_view_name": "StyleView",
            "_model_name": "DescriptionStyleModel",
            "description_width": "",
            "_view_module": "@jupyter-widgets/base",
            "_model_module_version": "1.5.0",
            "_view_count": null,
            "_view_module_version": "1.2.0",
            "_model_module": "@jupyter-widgets/controls"
          }
        },
        "9c620a7a2fff4428b52c7a4140669666": {
          "model_module": "@jupyter-widgets/base",
          "model_name": "LayoutModel",
          "state": {
            "_view_name": "LayoutView",
            "grid_template_rows": null,
            "right": null,
            "justify_content": null,
            "_view_module": "@jupyter-widgets/base",
            "overflow": null,
            "_model_module_version": "1.2.0",
            "_view_count": null,
            "flex_flow": null,
            "width": null,
            "min_width": null,
            "border": null,
            "align_items": null,
            "bottom": null,
            "_model_module": "@jupyter-widgets/base",
            "top": null,
            "grid_column": null,
            "overflow_y": null,
            "overflow_x": null,
            "grid_auto_flow": null,
            "grid_area": null,
            "grid_template_columns": null,
            "flex": null,
            "_model_name": "LayoutModel",
            "justify_items": null,
            "grid_row": null,
            "max_height": null,
            "align_content": null,
            "visibility": null,
            "align_self": null,
            "height": null,
            "min_height": null,
            "padding": null,
            "grid_auto_rows": null,
            "grid_gap": null,
            "max_width": null,
            "order": null,
            "_view_module_version": "1.2.0",
            "grid_template_areas": null,
            "object_position": null,
            "object_fit": null,
            "grid_auto_columns": null,
            "margin": null,
            "display": null,
            "left": null
          }
        }
      }
    }
  },
  "cells": [
    {
      "cell_type": "markdown",
      "metadata": {
        "id": "view-in-github",
        "colab_type": "text"
      },
      "source": [
        "<a href=\"https://colab.research.google.com/github/Jalajagr83/ML_Playook/blob/main/T5_summerize.ipynb\" target=\"_parent\"><img src=\"https://colab.research.google.com/assets/colab-badge.svg\" alt=\"Open In Colab\"/></a>"
      ]
    },
    {
      "cell_type": "code",
      "metadata": {
        "colab": {
          "base_uri": "https://localhost:8080/",
          "height": 1000,
          "referenced_widgets": [
            "a39f0fd513df434693e1068599badf92",
            "af7ff29c8437443e8c4ea2681326715d",
            "88a4f09724bd4c83bd750a22942bbb89",
            "dda476ff4e8242f5a700dc09c5111797",
            "76724073d71c4aa9ad54845bf6eddd6e",
            "519d90f18bc044369dfbb94fc81c3d76",
            "8f196044e0ec4f93a210f7a6dc93b7b8",
            "9d0021e0ecd6490e90fca8ce8fd73460",
            "dbc7a2882cd34fb8af1160d4dbc36ed6",
            "92aaeb2f520349ac80706a0b5f9c6556",
            "1917e7b1368543fb8f6081479ac68f9b",
            "2344baf8ea9743db91508154d657ed69",
            "b60ed714681c496ea2ffc6c4267dd51f",
            "963cff9812114e4787d6ce9087603671",
            "b75bdab2e71946e28ec884539825d97f",
            "7233f5d9d78c451b9a97450582da4afa",
            "e894316dc9a040e1bf736073d19e5341",
            "a0b8ae9c2f7a476bbc22c02e7c63e5b9",
            "50b034f98788410491c5df4adb3aa768",
            "5e725c8c9e4f444f8b59c88efc6b28f8",
            "deb72373a7f14e65bf2720f36c833615",
            "8a0eeddfef9c420ab248b585d6d07630",
            "65ec395418b345b4b4353974ac3c0eb0",
            "9c620a7a2fff4428b52c7a4140669666"
          ]
        },
        "id": "BAiNekB9QlRC",
        "outputId": "ead6e035-95ac-40fb-ced3-3794ae8dffc5"
      },
      "source": [
        "!pip install transformers==2.8.0\n",
        "!pip install torch==1.4.0\n",
        "import torch\n",
        "import json \n",
        "from transformers import T5Tokenizer, T5ForConditionalGeneration, T5Config\n",
        "model = T5ForConditionalGeneration.from_pretrained('t5-small')\n",
        "tokenizer = T5Tokenizer.from_pretrained('t5-small')"
      ],
      "execution_count": 1,
      "outputs": [
        {
          "output_type": "stream",
          "text": [
            "Collecting transformers==2.8.0\n",
            "\u001b[?25l  Downloading https://files.pythonhosted.org/packages/a3/78/92cedda05552398352ed9784908b834ee32a0bd071a9b32de287327370b7/transformers-2.8.0-py3-none-any.whl (563kB)\n",
            "\r\u001b[K     |▋                               | 10kB 15.7MB/s eta 0:00:01\r\u001b[K     |█▏                              | 20kB 15.8MB/s eta 0:00:01\r\u001b[K     |█▊                              | 30kB 10.6MB/s eta 0:00:01\r\u001b[K     |██▎                             | 40kB 9.2MB/s eta 0:00:01\r\u001b[K     |███                             | 51kB 8.4MB/s eta 0:00:01\r\u001b[K     |███▌                            | 61kB 8.3MB/s eta 0:00:01\r\u001b[K     |████                            | 71kB 8.2MB/s eta 0:00:01\r\u001b[K     |████▋                           | 81kB 9.0MB/s eta 0:00:01\r\u001b[K     |█████▎                          | 92kB 8.8MB/s eta 0:00:01\r\u001b[K     |█████▉                          | 102kB 7.8MB/s eta 0:00:01\r\u001b[K     |██████▍                         | 112kB 7.8MB/s eta 0:00:01\r\u001b[K     |███████                         | 122kB 7.8MB/s eta 0:00:01\r\u001b[K     |███████▋                        | 133kB 7.8MB/s eta 0:00:01\r\u001b[K     |████████▏                       | 143kB 7.8MB/s eta 0:00:01\r\u001b[K     |████████▊                       | 153kB 7.8MB/s eta 0:00:01\r\u001b[K     |█████████▎                      | 163kB 7.8MB/s eta 0:00:01\r\u001b[K     |█████████▉                      | 174kB 7.8MB/s eta 0:00:01\r\u001b[K     |██████████▌                     | 184kB 7.8MB/s eta 0:00:01\r\u001b[K     |███████████                     | 194kB 7.8MB/s eta 0:00:01\r\u001b[K     |███████████▋                    | 204kB 7.8MB/s eta 0:00:01\r\u001b[K     |████████████▏                   | 215kB 7.8MB/s eta 0:00:01\r\u001b[K     |████████████▉                   | 225kB 7.8MB/s eta 0:00:01\r\u001b[K     |█████████████▍                  | 235kB 7.8MB/s eta 0:00:01\r\u001b[K     |██████████████                  | 245kB 7.8MB/s eta 0:00:01\r\u001b[K     |██████████████▌                 | 256kB 7.8MB/s eta 0:00:01\r\u001b[K     |███████████████▏                | 266kB 7.8MB/s eta 0:00:01\r\u001b[K     |███████████████▊                | 276kB 7.8MB/s eta 0:00:01\r\u001b[K     |████████████████▎               | 286kB 7.8MB/s eta 0:00:01\r\u001b[K     |████████████████▉               | 296kB 7.8MB/s eta 0:00:01\r\u001b[K     |█████████████████▍              | 307kB 7.8MB/s eta 0:00:01\r\u001b[K     |██████████████████              | 317kB 7.8MB/s eta 0:00:01\r\u001b[K     |██████████████████▋             | 327kB 7.8MB/s eta 0:00:01\r\u001b[K     |███████████████████▏            | 337kB 7.8MB/s eta 0:00:01\r\u001b[K     |███████████████████▊            | 348kB 7.8MB/s eta 0:00:01\r\u001b[K     |████████████████████▍           | 358kB 7.8MB/s eta 0:00:01\r\u001b[K     |█████████████████████           | 368kB 7.8MB/s eta 0:00:01\r\u001b[K     |█████████████████████▌          | 378kB 7.8MB/s eta 0:00:01\r\u001b[K     |██████████████████████          | 389kB 7.8MB/s eta 0:00:01\r\u001b[K     |██████████████████████▊         | 399kB 7.8MB/s eta 0:00:01\r\u001b[K     |███████████████████████▎        | 409kB 7.8MB/s eta 0:00:01\r\u001b[K     |███████████████████████▉        | 419kB 7.8MB/s eta 0:00:01\r\u001b[K     |████████████████████████▍       | 430kB 7.8MB/s eta 0:00:01\r\u001b[K     |█████████████████████████       | 440kB 7.8MB/s eta 0:00:01\r\u001b[K     |█████████████████████████▋      | 450kB 7.8MB/s eta 0:00:01\r\u001b[K     |██████████████████████████▏     | 460kB 7.8MB/s eta 0:00:01\r\u001b[K     |██████████████████████████▊     | 471kB 7.8MB/s eta 0:00:01\r\u001b[K     |███████████████████████████▎    | 481kB 7.8MB/s eta 0:00:01\r\u001b[K     |████████████████████████████    | 491kB 7.8MB/s eta 0:00:01\r\u001b[K     |████████████████████████████▌   | 501kB 7.8MB/s eta 0:00:01\r\u001b[K     |█████████████████████████████   | 512kB 7.8MB/s eta 0:00:01\r\u001b[K     |█████████████████████████████▋  | 522kB 7.8MB/s eta 0:00:01\r\u001b[K     |██████████████████████████████▎ | 532kB 7.8MB/s eta 0:00:01\r\u001b[K     |██████████████████████████████▉ | 542kB 7.8MB/s eta 0:00:01\r\u001b[K     |███████████████████████████████▍| 552kB 7.8MB/s eta 0:00:01\r\u001b[K     |████████████████████████████████| 563kB 7.8MB/s eta 0:00:01\r\u001b[K     |████████████████████████████████| 573kB 7.8MB/s \n",
            "\u001b[?25hRequirement already satisfied: numpy in /usr/local/lib/python3.7/dist-packages (from transformers==2.8.0) (1.19.5)\n",
            "Requirement already satisfied: filelock in /usr/local/lib/python3.7/dist-packages (from transformers==2.8.0) (3.0.12)\n",
            "Requirement already satisfied: requests in /usr/local/lib/python3.7/dist-packages (from transformers==2.8.0) (2.23.0)\n",
            "Collecting sentencepiece\n",
            "\u001b[?25l  Downloading https://files.pythonhosted.org/packages/f5/99/e0808cb947ba10f575839c43e8fafc9cc44e4a7a2c8f79c60db48220a577/sentencepiece-0.1.95-cp37-cp37m-manylinux2014_x86_64.whl (1.2MB)\n",
            "\u001b[K     |████████████████████████████████| 1.2MB 18.0MB/s \n",
            "\u001b[?25hRequirement already satisfied: regex!=2019.12.17 in /usr/local/lib/python3.7/dist-packages (from transformers==2.8.0) (2019.12.20)\n",
            "Collecting boto3\n",
            "\u001b[?25l  Downloading https://files.pythonhosted.org/packages/ea/10/a997a266165e2df1976c4fc973f71bcd2e65a255f92d0ff7ab59b2f81989/boto3-1.17.44-py2.py3-none-any.whl (131kB)\n",
            "\u001b[K     |████████████████████████████████| 133kB 37.5MB/s \n",
            "\u001b[?25hCollecting sacremoses\n",
            "\u001b[?25l  Downloading https://files.pythonhosted.org/packages/08/cd/342e584ee544d044fb573ae697404ce22ede086c9e87ce5960772084cad0/sacremoses-0.0.44.tar.gz (862kB)\n",
            "\u001b[K     |████████████████████████████████| 870kB 37.4MB/s \n",
            "\u001b[?25hCollecting tokenizers==0.5.2\n",
            "\u001b[?25l  Downloading https://files.pythonhosted.org/packages/d6/e3/5e49e9a83fb605aaa34a1c1173e607302fecae529428c28696fb18f1c2c9/tokenizers-0.5.2-cp37-cp37m-manylinux1_x86_64.whl (5.6MB)\n",
            "\u001b[K     |████████████████████████████████| 5.6MB 13.6MB/s \n",
            "\u001b[?25hRequirement already satisfied: tqdm>=4.27 in /usr/local/lib/python3.7/dist-packages (from transformers==2.8.0) (4.41.1)\n",
            "Requirement already satisfied: urllib3!=1.25.0,!=1.25.1,<1.26,>=1.21.1 in /usr/local/lib/python3.7/dist-packages (from requests->transformers==2.8.0) (1.24.3)\n",
            "Requirement already satisfied: chardet<4,>=3.0.2 in /usr/local/lib/python3.7/dist-packages (from requests->transformers==2.8.0) (3.0.4)\n",
            "Requirement already satisfied: certifi>=2017.4.17 in /usr/local/lib/python3.7/dist-packages (from requests->transformers==2.8.0) (2020.12.5)\n",
            "Requirement already satisfied: idna<3,>=2.5 in /usr/local/lib/python3.7/dist-packages (from requests->transformers==2.8.0) (2.10)\n",
            "Collecting botocore<1.21.0,>=1.20.44\n",
            "\u001b[?25l  Downloading https://files.pythonhosted.org/packages/64/80/3ddbe4ad2561804b887deb8072d802dc24dd759833139a5b91efcff308d6/botocore-1.20.44-py2.py3-none-any.whl (7.4MB)\n",
            "\u001b[K     |████████████████████████████████| 7.4MB 47.3MB/s \n",
            "\u001b[?25hCollecting s3transfer<0.4.0,>=0.3.0\n",
            "\u001b[?25l  Downloading https://files.pythonhosted.org/packages/98/14/0b4be62b65c52d6d1c442f24e02d2a9889a73d3c352002e14c70f84a679f/s3transfer-0.3.6-py2.py3-none-any.whl (73kB)\n",
            "\u001b[K     |████████████████████████████████| 81kB 6.9MB/s \n",
            "\u001b[?25hCollecting jmespath<1.0.0,>=0.7.1\n",
            "  Downloading https://files.pythonhosted.org/packages/07/cb/5f001272b6faeb23c1c9e0acc04d48eaaf5c862c17709d20e3469c6e0139/jmespath-0.10.0-py2.py3-none-any.whl\n",
            "Requirement already satisfied: six in /usr/local/lib/python3.7/dist-packages (from sacremoses->transformers==2.8.0) (1.15.0)\n",
            "Requirement already satisfied: click in /usr/local/lib/python3.7/dist-packages (from sacremoses->transformers==2.8.0) (7.1.2)\n",
            "Requirement already satisfied: joblib in /usr/local/lib/python3.7/dist-packages (from sacremoses->transformers==2.8.0) (1.0.1)\n",
            "Requirement already satisfied: python-dateutil<3.0.0,>=2.1 in /usr/local/lib/python3.7/dist-packages (from botocore<1.21.0,>=1.20.44->boto3->transformers==2.8.0) (2.8.1)\n",
            "Building wheels for collected packages: sacremoses\n",
            "  Building wheel for sacremoses (setup.py) ... \u001b[?25l\u001b[?25hdone\n",
            "  Created wheel for sacremoses: filename=sacremoses-0.0.44-cp37-none-any.whl size=886084 sha256=57e3612105b1d65a333679243e0e00eeac52e653585d602e5682b5b1c7a8f4da\n",
            "  Stored in directory: /root/.cache/pip/wheels/3e/fb/c0/13ab4d63d537658f448366744654323077c4d90069b6512f3c\n",
            "Successfully built sacremoses\n",
            "\u001b[31mERROR: botocore 1.20.44 has requirement urllib3<1.27,>=1.25.4, but you'll have urllib3 1.24.3 which is incompatible.\u001b[0m\n",
            "Installing collected packages: sentencepiece, jmespath, botocore, s3transfer, boto3, sacremoses, tokenizers, transformers\n",
            "Successfully installed boto3-1.17.44 botocore-1.20.44 jmespath-0.10.0 s3transfer-0.3.6 sacremoses-0.0.44 sentencepiece-0.1.95 tokenizers-0.5.2 transformers-2.8.0\n",
            "Collecting torch==1.4.0\n",
            "\u001b[?25l  Downloading https://files.pythonhosted.org/packages/1a/3b/fa92ece1e58a6a48ec598bab327f39d69808133e5b2fb33002ca754e381e/torch-1.4.0-cp37-cp37m-manylinux1_x86_64.whl (753.4MB)\n",
            "\u001b[K     |████████████████████████████████| 753.4MB 23kB/s \n",
            "\u001b[31mERROR: torchvision 0.9.1+cu101 has requirement torch==1.8.1, but you'll have torch 1.4.0 which is incompatible.\u001b[0m\n",
            "\u001b[31mERROR: torchtext 0.9.1 has requirement torch==1.8.1, but you'll have torch 1.4.0 which is incompatible.\u001b[0m\n",
            "\u001b[?25hInstalling collected packages: torch\n",
            "  Found existing installation: torch 1.8.1+cu101\n",
            "    Uninstalling torch-1.8.1+cu101:\n",
            "      Successfully uninstalled torch-1.8.1+cu101\n",
            "Successfully installed torch-1.4.0\n"
          ],
          "name": "stdout"
        },
        {
          "output_type": "display_data",
          "data": {
            "application/vnd.jupyter.widget-view+json": {
              "model_id": "a39f0fd513df434693e1068599badf92",
              "version_minor": 0,
              "version_major": 2
            },
            "text/plain": [
              "HBox(children=(FloatProgress(value=0.0, description='Downloading', max=1197.0, style=ProgressStyle(description…"
            ]
          },
          "metadata": {
            "tags": []
          }
        },
        {
          "output_type": "stream",
          "text": [
            "\n"
          ],
          "name": "stdout"
        },
        {
          "output_type": "display_data",
          "data": {
            "application/vnd.jupyter.widget-view+json": {
              "model_id": "dbc7a2882cd34fb8af1160d4dbc36ed6",
              "version_minor": 0,
              "version_major": 2
            },
            "text/plain": [
              "HBox(children=(FloatProgress(value=0.0, description='Downloading', max=242065649.0, style=ProgressStyle(descri…"
            ]
          },
          "metadata": {
            "tags": []
          }
        },
        {
          "output_type": "stream",
          "text": [
            "\n"
          ],
          "name": "stdout"
        },
        {
          "output_type": "display_data",
          "data": {
            "application/vnd.jupyter.widget-view+json": {
              "model_id": "e894316dc9a040e1bf736073d19e5341",
              "version_minor": 0,
              "version_major": 2
            },
            "text/plain": [
              "HBox(children=(FloatProgress(value=0.0, description='Downloading', max=791656.0, style=ProgressStyle(descripti…"
            ]
          },
          "metadata": {
            "tags": []
          }
        },
        {
          "output_type": "stream",
          "text": [
            "\n"
          ],
          "name": "stdout"
        }
      ]
    },
    {
      "cell_type": "code",
      "metadata": {
        "id": "dbRnTbMdRjSo"
      },
      "source": [
        "device = torch.device('cpu')"
      ],
      "execution_count": 2,
      "outputs": []
    },
    {
      "cell_type": "code",
      "metadata": {
        "id": "xNhTxBEQRqD_"
      },
      "source": [
        "text =\"\"\"\n",
        "An attorney representing the family of George Floyd told CNN on Sunday being in the courtroom for the trial of the former police officer accused of killing Floyd has been \"heart-wrenching.\"\n",
        "\n",
        "The highly anticipated trial of Derek Chauvin began Monday with video showing Floyd's final moments. Chauvin, 45, has pleaded not guilty to second-degree unintentional murder, third-degree murder and second-degree manslaughter charges.\n",
        "Only one member from the Floyd and Chauvin families will be allowed to attend the trial in Minneapolis because of Covid-19 pandemic restrictions, a judge ruled in the case.\n",
        "Ben Crump, who represents Floyd's family, told CNN's Jim Acosta that as a Black man -- who also has been a civil rights attorney the entirety of his professional life -- he believes Chauvin will be convicted.\n",
        "\"My heart has been broken before, dealing with the American legal system,\" Crump said.\n",
        "Crump said he was shocked when defense attorneys started blaming the crowd outside of Cup Foods and that \"the only thing that killed George Floyd was an overdose of excessive force.\" Defense attorney Eric Nelson argued the bystanders at the scene of Floyd's death had morphed into a threatening crowd. This, in turn, distracted officers, Nelson said.\n",
        "One thing Crump did find compelling, he said, was the testimony from Jena Scurry, a Minneapolis 911 dispatcher who directed officers to the Cup Foods store, the scene of Floyd's death. Scurry called a police sergeant to voice her concerns about the arrest the day Floyd died, saying \"I don't know if they had to use force or not.\"\n",
        "\"My instincts were telling me that something's wrong. Something was not right. I don't know what, but something wasn't right,\" Scurry said she thought as she watched the video. \"It was an extended period of time.\"\n",
        "Crump described Scurry's comments as a \"bombshell testimony.\" Crump also also addressed the testimony of Lt. Richard Zimmerman, the Minneapolis Police Department's top homicide detective, who said Chauvin kneeling on Floyd's neck after handcuffing him was \"totally unnecessary.\"\n",
        "\"It says something when you have the highest-ranking police officials in Minneapolis Police Department also saying this is a bridge too far,\" Crump said. \"You knew you weren't supposed to keep a human being facedown like that where they could not breathe. And yet, you did it and you did it even after he had become unconscious.\"\n",
        "\"\"\""
      ],
      "execution_count": 3,
      "outputs": []
    },
    {
      "cell_type": "code",
      "metadata": {
        "colab": {
          "base_uri": "https://localhost:8080/"
        },
        "id": "-bDFGxhjRrAX",
        "outputId": "e66b516e-4cb2-4893-81d2-d1120a8f44ba"
      },
      "source": [
        "preprocess_text = text.strip().replace(\"\\n\",\"\")\n",
        "t5_prepared_Text = \"summarize: \"+preprocess_text\n",
        "print (\"original text preprocessed: \\n\", preprocess_text)\n",
        "tokenized_text = tokenizer.encode(t5_prepared_Text, return_tensors=\"pt\").to(device)\n",
        "summary_ids = model.generate(tokenized_text,\n",
        "                                    num_beams=4,\n",
        "                                    no_repeat_ngram_size=2,\n",
        "                                    min_length=30,\n",
        "                                    max_length=100,\n",
        "                                    early_stopping=True)"
      ],
      "execution_count": 5,
      "outputs": [
        {
          "output_type": "stream",
          "text": [
            "Token indices sequence length is longer than the specified maximum sequence length for this model (572 > 512). Running this sequence through the model will result in indexing errors\n"
          ],
          "name": "stderr"
        },
        {
          "output_type": "stream",
          "text": [
            "original text preprocessed: \n",
            " An attorney representing the family of George Floyd told CNN on Sunday being in the courtroom for the trial of the former police officer accused of killing Floyd has been \"heart-wrenching.\"The highly anticipated trial of Derek Chauvin began Monday with video showing Floyd's final moments. Chauvin, 45, has pleaded not guilty to second-degree unintentional murder, third-degree murder and second-degree manslaughter charges.Only one member from the Floyd and Chauvin families will be allowed to attend the trial in Minneapolis because of Covid-19 pandemic restrictions, a judge ruled in the case.Ben Crump, who represents Floyd's family, told CNN's Jim Acosta that as a Black man -- who also has been a civil rights attorney the entirety of his professional life -- he believes Chauvin will be convicted.\"My heart has been broken before, dealing with the American legal system,\" Crump said.Crump said he was shocked when defense attorneys started blaming the crowd outside of Cup Foods and that \"the only thing that killed George Floyd was an overdose of excessive force.\" Defense attorney Eric Nelson argued the bystanders at the scene of Floyd's death had morphed into a threatening crowd. This, in turn, distracted officers, Nelson said.One thing Crump did find compelling, he said, was the testimony from Jena Scurry, a Minneapolis 911 dispatcher who directed officers to the Cup Foods store, the scene of Floyd's death. Scurry called a police sergeant to voice her concerns about the arrest the day Floyd died, saying \"I don't know if they had to use force or not.\"\"My instincts were telling me that something's wrong. Something was not right. I don't know what, but something wasn't right,\" Scurry said she thought as she watched the video. \"It was an extended period of time.\"Crump described Scurry's comments as a \"bombshell testimony.\" Crump also also addressed the testimony of Lt. Richard Zimmerman, the Minneapolis Police Department's top homicide detective, who said Chauvin kneeling on Floyd's neck after handcuffing him was \"totally unnecessary.\"\"It says something when you have the highest-ranking police officials in Minneapolis Police Department also saying this is a bridge too far,\" Crump said. \"You knew you weren't supposed to keep a human being facedown like that where they could not breathe. And yet, you did it and you did it even after he had become unconscious.\"\n"
          ],
          "name": "stdout"
        }
      ]
    },
    {
      "cell_type": "code",
      "metadata": {
        "colab": {
          "base_uri": "https://localhost:8080/"
        },
        "id": "GZziYlLTRyEG",
        "outputId": "69858a40-5743-4dee-c834-94a4fcaba352"
      },
      "source": [
        "output = tokenizer.decode(summary_ids[0], skip_special_tokens=True)\n",
        "print (\"\\n\\nSummarized text: \\n\",output)"
      ],
      "execution_count": 6,
      "outputs": [
        {
          "output_type": "stream",
          "text": [
            "\n",
            "\n",
            "Summarized text: \n",
            " a lawyer representing the family of George Floyd says the trial of Derek Chauvin has been \"heart-wrenching\" the former police officer accused of killing him has pleaded not guilty to second-degree unintentional murder and manslaughter charges. one member from the Floyd family will be allowed to attend trial in Minneapolis because of covid-19 pandemic restrictions, judge ruled in the case.\n"
          ],
          "name": "stdout"
        }
      ]
    }
  ]
}